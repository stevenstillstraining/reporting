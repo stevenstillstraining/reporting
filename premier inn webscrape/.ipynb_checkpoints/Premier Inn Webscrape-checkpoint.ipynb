{
 "cells": [
  {
   "cell_type": "markdown",
   "id": "3ecb248b-9046-4c43-bf5e-ca8b94edfbe3",
   "metadata": {},
   "source": [
    "GEt HTML Structure"
   ]
  },
  {
   "cell_type": "code",
   "execution_count": 12,
   "id": "a5407c3f-dc58-4079-88f6-a0f67c961930",
   "metadata": {},
   "outputs": [
    {
     "name": "stdout",
     "output_type": "stream",
     "text": [
      "✅ Saved page source to: page_source_2025-08-19.html\n"
     ]
    }
   ],
   "source": [
    "import time\n",
    "from datetime import date\n",
    "from selenium import webdriver\n",
    "from selenium.webdriver.chrome.service import Service\n",
    "from selenium.webdriver.chrome.options import Options\n",
    "from webdriver_manager.chrome import ChromeDriverManager\n",
    "\n",
    "# Setup\n",
    "options = Options()\n",
    "options.add_argument(\"--headless\")\n",
    "options.add_argument(\"--window-size=1920,1080\")\n",
    "driver = webdriver.Chrome(service=Service(ChromeDriverManager().install()), options=options)\n",
    "\n",
    "# Pick the date and URL\n",
    "check_in = date(2025, 8, 19)\n",
    "url = (\n",
    "    \"https://www.premierinn.com/gb/en/hotels/england/hertfordshire/watford/\"\n",
    "    \"watford-croxley-green.html?ARRdd=19&ARRmm=08&ARRyyyy=2025&NIGHTS=2&ROOMS=1&\"\n",
    "    \"ADULT1=1&CHILD1=0&COT1=0&INTTYP1=SB\"\n",
    ")\n",
    "\n",
    "# Load page\n",
    "driver.get(url)\n",
    "time.sleep(10)  # Wait to ensure JavaScript has loaded content\n",
    "\n",
    "# Save page source to file\n",
    "filename = f\"page_source_{check_in}.html\"\n",
    "with open(filename, \"w\", encoding=\"utf-8\") as f:\n",
    "    f.write(driver.page_source)\n",
    "\n",
    "print(f\"✅ Saved page source to: {filename}\")\n",
    "driver.quit()\n"
   ]
  },
  {
   "cell_type": "code",
   "execution_count": null,
   "id": "c3dc63d5-3d74-445b-a669-035d5cd9d2be",
   "metadata": {},
   "outputs": [],
   "source": []
  },
  {
   "cell_type": "code",
   "execution_count": 23,
   "id": "7f7fddde-8194-4d30-a5d7-68f7d9702b9d",
   "metadata": {},
   "outputs": [
    {
     "name": "stdout",
     "output_type": "stream",
     "text": [
      "\n",
      "Checking: https://www.premierinn.com/gb/en/hotels/england/hertfordshire/rickmansworth/rickmansworth.html?ARRdd=21&ARRmm=07&ARRyyyy=2025&NIGHTS=2&ROOMS=1&ADULT1=1&CHILD1=0&COT1=0&INTTYP1=DB&BRAND=PI\n",
      "2025-07-21 to 2025-07-23: £270 (Standard)\n",
      "\n",
      "Checking: https://www.premierinn.com/gb/en/hotels/england/hertfordshire/rickmansworth/rickmansworth.html?ARRdd=28&ARRmm=07&ARRyyyy=2025&NIGHTS=2&ROOMS=1&ADULT1=1&CHILD1=0&COT1=0&INTTYP1=DB&BRAND=PI\n",
      "2025-07-28 to 2025-07-30: £255 (Standard)\n",
      "\n",
      "Checking: https://www.premierinn.com/gb/en/hotels/england/hertfordshire/rickmansworth/rickmansworth.html?ARRdd=04&ARRmm=08&ARRyyyy=2025&NIGHTS=2&ROOMS=1&ADULT1=1&CHILD1=0&COT1=0&INTTYP1=DB&BRAND=PI\n",
      "2025-08-04 to 2025-08-06: £176 (Standard)\n",
      "\n",
      "Checking: https://www.premierinn.com/gb/en/hotels/england/hertfordshire/rickmansworth/rickmansworth.html?ARRdd=11&ARRmm=08&ARRyyyy=2025&NIGHTS=2&ROOMS=1&ADULT1=1&CHILD1=0&COT1=0&INTTYP1=DB&BRAND=PI\n",
      "2025-08-11 to 2025-08-13: £176 (Standard)\n",
      "\n",
      "Checking: https://www.premierinn.com/gb/en/hotels/england/hertfordshire/rickmansworth/rickmansworth.html?ARRdd=18&ARRmm=08&ARRyyyy=2025&NIGHTS=2&ROOMS=1&ADULT1=1&CHILD1=0&COT1=0&INTTYP1=DB&BRAND=PI\n",
      "2025-08-18 to 2025-08-20: £216 (Standard)\n",
      "\n",
      "Checking: https://www.premierinn.com/gb/en/hotels/england/hertfordshire/rickmansworth/rickmansworth.html?ARRdd=25&ARRmm=08&ARRyyyy=2025&NIGHTS=2&ROOMS=1&ADULT1=1&CHILD1=0&COT1=0&INTTYP1=DB&BRAND=PI\n",
      "2025-08-25 to 2025-08-27: £217 (Standard)\n",
      "\n",
      "Checking: https://www.premierinn.com/gb/en/hotels/england/hertfordshire/rickmansworth/rickmansworth.html?ARRdd=01&ARRmm=09&ARRyyyy=2025&NIGHTS=2&ROOMS=1&ADULT1=1&CHILD1=0&COT1=0&INTTYP1=DB&BRAND=PI\n",
      "2025-09-01 to 2025-09-03: £215 (Standard)\n",
      "\n",
      "Checking: https://www.premierinn.com/gb/en/hotels/england/hertfordshire/rickmansworth/rickmansworth.html?ARRdd=08&ARRmm=09&ARRyyyy=2025&NIGHTS=2&ROOMS=1&ADULT1=1&CHILD1=0&COT1=0&INTTYP1=DB&BRAND=PI\n",
      "2025-09-08 to 2025-09-10: £276 (Standard)\n",
      "\n",
      "Checking: https://www.premierinn.com/gb/en/hotels/england/hertfordshire/rickmansworth/rickmansworth.html?ARRdd=15&ARRmm=09&ARRyyyy=2025&NIGHTS=2&ROOMS=1&ADULT1=1&CHILD1=0&COT1=0&INTTYP1=DB&BRAND=PI\n",
      "2025-09-15 to 2025-09-17: £200 (Standard)\n",
      "\n",
      "Checking: https://www.premierinn.com/gb/en/hotels/england/hertfordshire/rickmansworth/rickmansworth.html?ARRdd=22&ARRmm=09&ARRyyyy=2025&NIGHTS=2&ROOMS=1&ADULT1=1&CHILD1=0&COT1=0&INTTYP1=DB&BRAND=PI\n",
      "2025-09-22 to 2025-09-24: £218 (Standard)\n",
      "\n",
      "Checking: https://www.premierinn.com/gb/en/hotels/england/hertfordshire/rickmansworth/rickmansworth.html?ARRdd=29&ARRmm=09&ARRyyyy=2025&NIGHTS=2&ROOMS=1&ADULT1=1&CHILD1=0&COT1=0&INTTYP1=DB&BRAND=PI\n",
      "2025-09-29 to 2025-10-01: £239 (Standard)\n",
      "\n",
      "Checking: https://www.premierinn.com/gb/en/hotels/england/hertfordshire/rickmansworth/rickmansworth.html?ARRdd=06&ARRmm=10&ARRyyyy=2025&NIGHTS=2&ROOMS=1&ADULT1=1&CHILD1=0&COT1=0&INTTYP1=DB&BRAND=PI\n",
      "2025-10-06 to 2025-10-08: £217 (Standard)\n",
      "\n",
      "Checking: https://www.premierinn.com/gb/en/hotels/england/hertfordshire/rickmansworth/rickmansworth.html?ARRdd=13&ARRmm=10&ARRyyyy=2025&NIGHTS=2&ROOMS=1&ADULT1=1&CHILD1=0&COT1=0&INTTYP1=DB&BRAND=PI\n",
      "2025-10-13 to 2025-10-15: £213 (Standard)\n",
      "\n",
      "Checking: https://www.premierinn.com/gb/en/hotels/england/hertfordshire/rickmansworth/rickmansworth.html?ARRdd=20&ARRmm=10&ARRyyyy=2025&NIGHTS=2&ROOMS=1&ADULT1=1&CHILD1=0&COT1=0&INTTYP1=DB&BRAND=PI\n",
      "2025-10-20 to 2025-10-22: £213 (Standard)\n",
      "\n",
      "Checking: https://www.premierinn.com/gb/en/hotels/england/hertfordshire/rickmansworth/rickmansworth.html?ARRdd=27&ARRmm=10&ARRyyyy=2025&NIGHTS=2&ROOMS=1&ADULT1=1&CHILD1=0&COT1=0&INTTYP1=DB&BRAND=PI\n",
      "2025-10-27 to 2025-10-29: £198 (Standard)\n",
      "\n",
      "Checking: https://www.premierinn.com/gb/en/hotels/england/hertfordshire/rickmansworth/rickmansworth.html?ARRdd=03&ARRmm=11&ARRyyyy=2025&NIGHTS=2&ROOMS=1&ADULT1=1&CHILD1=0&COT1=0&INTTYP1=DB&BRAND=PI\n",
      "2025-11-03 to 2025-11-05: £150 (Standard)\n",
      "\n",
      "Checking: https://www.premierinn.com/gb/en/hotels/england/hertfordshire/rickmansworth/rickmansworth.html?ARRdd=10&ARRmm=11&ARRyyyy=2025&NIGHTS=2&ROOMS=1&ADULT1=1&CHILD1=0&COT1=0&INTTYP1=DB&BRAND=PI\n",
      "2025-11-10 to 2025-11-12: £146 (Standard)\n",
      "\n",
      "Checking: https://www.premierinn.com/gb/en/hotels/england/hertfordshire/rickmansworth/rickmansworth.html?ARRdd=17&ARRmm=11&ARRyyyy=2025&NIGHTS=2&ROOMS=1&ADULT1=1&CHILD1=0&COT1=0&INTTYP1=DB&BRAND=PI\n",
      "2025-11-17 to 2025-11-19: £143 (Standard)\n",
      "\n",
      "Checking: https://www.premierinn.com/gb/en/hotels/england/hertfordshire/rickmansworth/rickmansworth.html?ARRdd=24&ARRmm=11&ARRyyyy=2025&NIGHTS=2&ROOMS=1&ADULT1=1&CHILD1=0&COT1=0&INTTYP1=DB&BRAND=PI\n",
      "2025-11-24 to 2025-11-26: £143 (Standard)\n",
      "\n",
      "Checking: https://www.premierinn.com/gb/en/hotels/england/hertfordshire/rickmansworth/rickmansworth.html?ARRdd=01&ARRmm=12&ARRyyyy=2025&NIGHTS=2&ROOMS=1&ADULT1=1&CHILD1=0&COT1=0&INTTYP1=DB&BRAND=PI\n",
      "2025-12-01 to 2025-12-03: £124 (Standard)\n",
      "\n",
      "Checking: https://www.premierinn.com/gb/en/hotels/england/hertfordshire/rickmansworth/rickmansworth.html?ARRdd=08&ARRmm=12&ARRyyyy=2025&NIGHTS=2&ROOMS=1&ADULT1=1&CHILD1=0&COT1=0&INTTYP1=DB&BRAND=PI\n",
      "2025-12-08 to 2025-12-10: £158 (Standard)\n",
      "\n",
      "Checking: https://www.premierinn.com/gb/en/hotels/england/hertfordshire/rickmansworth/rickmansworth.html?ARRdd=15&ARRmm=12&ARRyyyy=2025&NIGHTS=2&ROOMS=1&ADULT1=1&CHILD1=0&COT1=0&INTTYP1=DB&BRAND=PI\n",
      "2025-12-15 to 2025-12-17: £167 (Advance)\n",
      "\n",
      "Checking: https://www.premierinn.com/gb/en/hotels/england/hertfordshire/rickmansworth/rickmansworth.html?ARRdd=22&ARRmm=12&ARRyyyy=2025&NIGHTS=2&ROOMS=1&ADULT1=1&CHILD1=0&COT1=0&INTTYP1=DB&BRAND=PI\n",
      "2025-12-22 to 2025-12-24: £112 (Advance)\n",
      "\n",
      "Checking: https://www.premierinn.com/gb/en/hotels/england/hertfordshire/rickmansworth/rickmansworth.html?ARRdd=29&ARRmm=12&ARRyyyy=2025&NIGHTS=2&ROOMS=1&ADULT1=1&CHILD1=0&COT1=0&INTTYP1=DB&BRAND=PI\n",
      "2025-12-29 to 2025-12-31: £106 (Advance)\n",
      "\n",
      "Checking: https://www.premierinn.com/gb/en/hotels/england/hertfordshire/rickmansworth/rickmansworth.html?ARRdd=05&ARRmm=01&ARRyyyy=2026&NIGHTS=2&ROOMS=1&ADULT1=1&CHILD1=0&COT1=0&INTTYP1=DB&BRAND=PI\n",
      "2026-01-05 to 2026-01-07: £171 (Advance)\n",
      "\n",
      "Checking: https://www.premierinn.com/gb/en/hotels/england/hertfordshire/rickmansworth/rickmansworth.html?ARRdd=12&ARRmm=01&ARRyyyy=2026&NIGHTS=2&ROOMS=1&ADULT1=1&CHILD1=0&COT1=0&INTTYP1=DB&BRAND=PI\n",
      "2026-01-12 to 2026-01-14: £171 (Advance)\n",
      "\n",
      "Checking: https://www.premierinn.com/gb/en/hotels/england/hertfordshire/rickmansworth/rickmansworth.html?ARRdd=19&ARRmm=01&ARRyyyy=2026&NIGHTS=2&ROOMS=1&ADULT1=1&CHILD1=0&COT1=0&INTTYP1=DB&BRAND=PI\n",
      "2026-01-19 to 2026-01-21: £171 (Advance)\n",
      "\n",
      "Checking: https://www.premierinn.com/gb/en/hotels/england/hertfordshire/rickmansworth/rickmansworth.html?ARRdd=26&ARRmm=01&ARRyyyy=2026&NIGHTS=2&ROOMS=1&ADULT1=1&CHILD1=0&COT1=0&INTTYP1=DB&BRAND=PI\n",
      "2026-01-26 to 2026-01-28: £171 (Advance)\n",
      "\n",
      "Checking: https://www.premierinn.com/gb/en/hotels/england/hertfordshire/rickmansworth/rickmansworth.html?ARRdd=02&ARRmm=02&ARRyyyy=2026&NIGHTS=2&ROOMS=1&ADULT1=1&CHILD1=0&COT1=0&INTTYP1=DB&BRAND=PI\n",
      "2026-02-02 to 2026-02-04: £171 (Advance)\n",
      "\n",
      "Checking: https://www.premierinn.com/gb/en/hotels/england/hertfordshire/rickmansworth/rickmansworth.html?ARRdd=09&ARRmm=02&ARRyyyy=2026&NIGHTS=2&ROOMS=1&ADULT1=1&CHILD1=0&COT1=0&INTTYP1=DB&BRAND=PI\n",
      "2026-02-09 to 2026-02-11: £219 (Advance)\n",
      "\n",
      "Checking: https://www.premierinn.com/gb/en/hotels/england/hertfordshire/rickmansworth/rickmansworth.html?ARRdd=16&ARRmm=02&ARRyyyy=2026&NIGHTS=2&ROOMS=1&ADULT1=1&CHILD1=0&COT1=0&INTTYP1=DB&BRAND=PI\n",
      "2026-02-16 to 2026-02-18: £219 (Advance)\n",
      "\n",
      "Checking: https://www.premierinn.com/gb/en/hotels/england/hertfordshire/rickmansworth/rickmansworth.html?ARRdd=23&ARRmm=02&ARRyyyy=2026&NIGHTS=2&ROOMS=1&ADULT1=1&CHILD1=0&COT1=0&INTTYP1=DB&BRAND=PI\n",
      "2026-02-23 to 2026-02-25: £221 (Advance)\n",
      "\n",
      "Checking: https://www.premierinn.com/gb/en/hotels/england/hertfordshire/rickmansworth/rickmansworth.html?ARRdd=02&ARRmm=03&ARRyyyy=2026&NIGHTS=2&ROOMS=1&ADULT1=1&CHILD1=0&COT1=0&INTTYP1=DB&BRAND=PI\n",
      "2026-03-02 to 2026-03-04: £205 (Advance)\n",
      "\n",
      "Checking: https://www.premierinn.com/gb/en/hotels/england/hertfordshire/rickmansworth/rickmansworth.html?ARRdd=09&ARRmm=03&ARRyyyy=2026&NIGHTS=2&ROOMS=1&ADULT1=1&CHILD1=0&COT1=0&INTTYP1=DB&BRAND=PI\n",
      "2026-03-09 to 2026-03-11: £205 (Advance)\n",
      "\n",
      "Checking: https://www.premierinn.com/gb/en/hotels/england/hertfordshire/rickmansworth/rickmansworth.html?ARRdd=16&ARRmm=03&ARRyyyy=2026&NIGHTS=2&ROOMS=1&ADULT1=1&CHILD1=0&COT1=0&INTTYP1=DB&BRAND=PI\n",
      "2026-03-16 to 2026-03-18: £205 (Advance)\n",
      "\n",
      "Checking: https://www.premierinn.com/gb/en/hotels/england/hertfordshire/rickmansworth/rickmansworth.html?ARRdd=23&ARRmm=03&ARRyyyy=2026&NIGHTS=2&ROOMS=1&ADULT1=1&CHILD1=0&COT1=0&INTTYP1=DB&BRAND=PI\n",
      "2026-03-23 to 2026-03-25: £205 (Advance)\n",
      "\n",
      "Checking: https://www.premierinn.com/gb/en/hotels/england/hertfordshire/rickmansworth/rickmansworth.html?ARRdd=30&ARRmm=03&ARRyyyy=2026&NIGHTS=2&ROOMS=1&ADULT1=1&CHILD1=0&COT1=0&INTTYP1=DB&BRAND=PI\n",
      "2026-03-30 to 2026-04-01: £205 (Advance)\n",
      "\n",
      "Checking: https://www.premierinn.com/gb/en/hotels/england/hertfordshire/rickmansworth/rickmansworth.html?ARRdd=06&ARRmm=04&ARRyyyy=2026&NIGHTS=2&ROOMS=1&ADULT1=1&CHILD1=0&COT1=0&INTTYP1=DB&BRAND=PI\n",
      "2026-04-06 to 2026-04-08: £159 (Advance)\n",
      "\n",
      "Checking: https://www.premierinn.com/gb/en/hotels/england/hertfordshire/rickmansworth/rickmansworth.html?ARRdd=13&ARRmm=04&ARRyyyy=2026&NIGHTS=2&ROOMS=1&ADULT1=1&CHILD1=0&COT1=0&INTTYP1=DB&BRAND=PI\n",
      "2026-04-13 to 2026-04-15: £159 (Advance)\n",
      "\n",
      "Checking: https://www.premierinn.com/gb/en/hotels/england/hertfordshire/rickmansworth/rickmansworth.html?ARRdd=20&ARRmm=04&ARRyyyy=2026&NIGHTS=2&ROOMS=1&ADULT1=1&CHILD1=0&COT1=0&INTTYP1=DB&BRAND=PI\n",
      "2026-04-20 to 2026-04-22: £214 (Advance)\n",
      "\n",
      "Checking: https://www.premierinn.com/gb/en/hotels/england/hertfordshire/rickmansworth/rickmansworth.html?ARRdd=27&ARRmm=04&ARRyyyy=2026&NIGHTS=2&ROOMS=1&ADULT1=1&CHILD1=0&COT1=0&INTTYP1=DB&BRAND=PI\n",
      "2026-04-27 to 2026-04-29: £208 (Advance)\n",
      "\n",
      "Checking: https://www.premierinn.com/gb/en/hotels/england/hertfordshire/rickmansworth/rickmansworth.html?ARRdd=04&ARRmm=05&ARRyyyy=2026&NIGHTS=2&ROOMS=1&ADULT1=1&CHILD1=0&COT1=0&INTTYP1=DB&BRAND=PI\n",
      "2026-05-04 to 2026-05-06: £208 (Advance)\n",
      "\n",
      "Checking: https://www.premierinn.com/gb/en/hotels/england/hertfordshire/rickmansworth/rickmansworth.html?ARRdd=11&ARRmm=05&ARRyyyy=2026&NIGHTS=2&ROOMS=1&ADULT1=1&CHILD1=0&COT1=0&INTTYP1=DB&BRAND=PI\n",
      "2026-05-11 to 2026-05-13: £208 (Advance)\n",
      "\n",
      "Checking: https://www.premierinn.com/gb/en/hotels/england/hertfordshire/rickmansworth/rickmansworth.html?ARRdd=18&ARRmm=05&ARRyyyy=2026&NIGHTS=2&ROOMS=1&ADULT1=1&CHILD1=0&COT1=0&INTTYP1=DB&BRAND=PI\n",
      "2026-05-18 to 2026-05-20: £208 (Advance)\n",
      "\n",
      "Checking: https://www.premierinn.com/gb/en/hotels/england/hertfordshire/rickmansworth/rickmansworth.html?ARRdd=25&ARRmm=05&ARRyyyy=2026&NIGHTS=2&ROOMS=1&ADULT1=1&CHILD1=0&COT1=0&INTTYP1=DB&BRAND=PI\n",
      "2026-05-25 to 2026-05-27: £195 (Advance)\n",
      "\n",
      "Checking: https://www.premierinn.com/gb/en/hotels/england/hertfordshire/rickmansworth/rickmansworth.html?ARRdd=01&ARRmm=06&ARRyyyy=2026&NIGHTS=2&ROOMS=1&ADULT1=1&CHILD1=0&COT1=0&INTTYP1=DB&BRAND=PI\n",
      "2026-06-01 to 2026-06-03: £235 (Advance)\n",
      "\n",
      "Checking: https://www.premierinn.com/gb/en/hotels/england/hertfordshire/rickmansworth/rickmansworth.html?ARRdd=08&ARRmm=06&ARRyyyy=2026&NIGHTS=2&ROOMS=1&ADULT1=1&CHILD1=0&COT1=0&INTTYP1=DB&BRAND=PI\n",
      "2026-06-08 to 2026-06-10: £235 (Advance)\n",
      "\n",
      "Checking: https://www.premierinn.com/gb/en/hotels/england/hertfordshire/rickmansworth/rickmansworth.html?ARRdd=15&ARRmm=06&ARRyyyy=2026&NIGHTS=2&ROOMS=1&ADULT1=1&CHILD1=0&COT1=0&INTTYP1=DB&BRAND=PI\n",
      "2026-06-15 to 2026-06-17: £273 (Advance)\n",
      "\n",
      "Checking: https://www.premierinn.com/gb/en/hotels/england/hertfordshire/rickmansworth/rickmansworth.html?ARRdd=22&ARRmm=06&ARRyyyy=2026&NIGHTS=2&ROOMS=1&ADULT1=1&CHILD1=0&COT1=0&INTTYP1=DB&BRAND=PI\n",
      "2026-06-22 to 2026-06-24: £273 (Advance)\n",
      "\n",
      "Checking: https://www.premierinn.com/gb/en/hotels/england/hertfordshire/rickmansworth/rickmansworth.html?ARRdd=29&ARRmm=06&ARRyyyy=2026&NIGHTS=2&ROOMS=1&ADULT1=1&CHILD1=0&COT1=0&INTTYP1=DB&BRAND=PI\n",
      "2026-06-29 to 2026-07-01: £273 (Advance)\n",
      "\n",
      "Checking: https://www.premierinn.com/gb/en/hotels/england/hertfordshire/rickmansworth/rickmansworth.html?ARRdd=06&ARRmm=07&ARRyyyy=2026&NIGHTS=2&ROOMS=1&ADULT1=1&CHILD1=0&COT1=0&INTTYP1=DB&BRAND=PI\n",
      "2026-07-06 to 2026-07-08: £273 (Advance)\n",
      "\n",
      "Checking: https://www.premierinn.com/gb/en/hotels/england/hertfordshire/rickmansworth/rickmansworth.html?ARRdd=13&ARRmm=07&ARRyyyy=2026&NIGHTS=2&ROOMS=1&ADULT1=1&CHILD1=0&COT1=0&INTTYP1=DB&BRAND=PI\n",
      "2026-07-13 to 2026-07-15: No matching room type found\n",
      "Done. Saved to 'rickmansworth premier inn prices.csv'\n"
     ]
    }
   ],
   "source": [
    "import time\n",
    "import pandas as pd\n",
    "from datetime import date, timedelta\n",
    "import undetected_chromedriver as uc\n",
    "from selenium.webdriver.common.by import By\n",
    "from selenium.common.exceptions import NoSuchElementException\n",
    "\n",
    "options = uc.ChromeOptions()\n",
    "options.add_argument(\"--window-size=1920,1080\")\n",
    "driver = uc.Chrome(options=options)\n",
    "driver.get(\"https://www.premierinn.com/\")\n",
    "\n",
    "time.sleep(3)\n",
    "try:\n",
    "    accept = driver.find_element(By.XPATH, \"//button[contains(text(), 'Accept all cookies')]\")\n",
    "    accept.click()\n",
    "except NoSuchElementException:\n",
    "    pass\n",
    "\n",
    "results = []\n",
    "today = date.today()\n",
    "start_date = today + timedelta(days=(7 - today.weekday()) % 7)\n",
    "preferred_rooms = [\"Standard\", \"Advance\", \"Flex\"]\n",
    "\n",
    "for week in range(52):\n",
    "    check_in = start_date + timedelta(weeks=week)\n",
    "    check_out = check_in + timedelta(days=2)\n",
    "    url = (\n",
    "        \"https://www.premierinn.com/gb/en/hotels/england/hertfordshire/rickmansworth/rickmansworth.html\"\n",
    "        f\"?ARRdd={check_in.day:02d}&ARRmm={check_in.month:02d}&ARRyyyy={check_in.year}\"\n",
    "        \"&NIGHTS=2&ROOMS=1&ADULT1=1&CHILD1=0&COT1=0&INTTYP1=DB&BRAND=PI\"\n",
    "    )\n",
    "\n",
    "    print(f\"\\nChecking: {url}\")\n",
    "    driver.get(url)\n",
    "\n",
    "    found = False\n",
    "    start_time = time.time()\n",
    "\n",
    "    while time.time() - start_time < 5:\n",
    "        try:\n",
    "            cards = driver.find_elements(By.CSS_SELECTOR, '[data-testid=\"hdp_rateItemCard\"]')\n",
    "            for room_name in preferred_rooms:\n",
    "                for card in cards:\n",
    "                    name = card.find_element(By.CSS_SELECTOR, '[data-testid=\"hdp_ratePlanName\"]')\n",
    "                    if name.text.strip().lower() == room_name.lower():\n",
    "                        price_el = card.find_element(By.CSS_SELECTOR, '[data-testid=\"hdp_rateItemTotalPrice\"]')\n",
    "                        price = price_el.text.replace(\"£\", \"\").replace(\",\", \"\").strip()\n",
    "                        print(f\"{check_in} to {check_out}: £{price} ({room_name})\")\n",
    "                        results.append({\n",
    "                            \"Check-in\": check_in.strftime(\"%Y-%m-%d\"),\n",
    "                            \"Check-out\": check_out.strftime(\"%Y-%m-%d\"),\n",
    "                            \"Room Type\": room_name,\n",
    "                            \"Price (£)\": price\n",
    "                        })\n",
    "                        found = True\n",
    "                        break\n",
    "                if found:\n",
    "                    break\n",
    "        except:\n",
    "            pass\n",
    "        if found:\n",
    "            break\n",
    "        time.sleep(1)\n",
    "\n",
    "    if not found:\n",
    "        print(f\"{check_in} to {check_out}: No matching room type found\")\n",
    "        results.append({\n",
    "            \"Check-in\": check_in.strftime(\"%Y-%m-%d\"),\n",
    "            \"Check-out\": check_out.strftime(\"%Y-%m-%d\"),\n",
    "            \"Room Type\": \"None\",\n",
    "            \"Price (£)\": \"Not found\"\n",
    "        })\n",
    "\n",
    "driver.quit()\n",
    "\n",
    "df = pd.DataFrame(results)\n",
    "df[\"Price\"] = pd.to_numeric(df[\"Price\"], errors=\"coerce\")\n",
    "average_price = round(df[\"Price\"].mean(skipna=True))\n",
    "df[\"Annual Average Price\"] = average_price\n",
    "df.to_csv(\"rickmansworth premier inn prices.csv\", index=False)\n",
    "print(\"Done. Saved to 'rickmansworth premier inn prices.csv'\")\n"
   ]
  },
  {
   "cell_type": "code",
   "execution_count": null,
   "id": "c1bc3a4a-ec72-4c97-ab77-6e00f1bfcd84",
   "metadata": {},
   "outputs": [],
   "source": []
  },
  {
   "cell_type": "code",
   "execution_count": 31,
   "id": "5e4f9c96-408f-4a98-a661-07de1d08a57b",
   "metadata": {},
   "outputs": [
    {
     "name": "stderr",
     "output_type": "stream",
     "text": [
      "C:\\Users\\steve\\AppData\\Local\\Temp\\ipykernel_68836\\1151792855.py:8: UserWarning:\n",
      "\n",
      "Parsing dates in %d/%m/%Y format when dayfirst=False (the default) was specified. Pass `dayfirst=True` or specify a format to silence this warning.\n",
      "\n"
     ]
    },
    {
     "data": {
      "application/vnd.plotly.v1+json": {
       "config": {
        "plotlyServerURL": "https://plot.ly"
       },
       "data": [
        {
         "line": {
          "color": "#00314a",
          "shape": "spline"
         },
         "marker": {
          "color": "#00314a"
         },
         "mode": "lines+markers",
         "name": "Price",
         "type": "scatter",
         "x": [
          "2025-07-21T00:00:00",
          "2025-07-28T00:00:00",
          "2025-08-04T00:00:00",
          "2025-08-11T00:00:00",
          "2025-08-18T00:00:00",
          "2025-08-25T00:00:00",
          "2025-09-01T00:00:00",
          "2025-09-08T00:00:00",
          "2025-09-15T00:00:00",
          "2025-09-22T00:00:00",
          "2025-09-29T00:00:00",
          "2025-10-06T00:00:00",
          "2025-10-13T00:00:00",
          "2025-10-20T00:00:00",
          "2025-10-27T00:00:00",
          "2025-11-03T00:00:00",
          "2025-11-10T00:00:00",
          "2025-11-17T00:00:00",
          "2025-11-24T00:00:00",
          "2025-12-01T00:00:00",
          "2025-12-08T00:00:00",
          "2025-12-15T00:00:00",
          "2025-12-22T00:00:00",
          "2025-12-29T00:00:00",
          "2026-01-05T00:00:00",
          "2026-01-12T00:00:00",
          "2026-01-19T00:00:00",
          "2026-01-26T00:00:00",
          "2026-02-02T00:00:00",
          "2026-02-09T00:00:00",
          "2026-02-16T00:00:00",
          "2026-02-23T00:00:00",
          "2026-03-02T00:00:00",
          "2026-03-09T00:00:00",
          "2026-03-16T00:00:00",
          "2026-03-23T00:00:00",
          "2026-03-30T00:00:00",
          "2026-04-06T00:00:00",
          "2026-04-13T00:00:00",
          "2026-04-20T00:00:00",
          "2026-04-27T00:00:00",
          "2026-05-04T00:00:00",
          "2026-05-11T00:00:00",
          "2026-05-18T00:00:00",
          "2026-05-25T00:00:00",
          "2026-06-01T00:00:00",
          "2026-06-08T00:00:00",
          "2026-06-15T00:00:00",
          "2026-06-22T00:00:00",
          "2026-06-29T00:00:00",
          "2026-07-06T00:00:00"
         ],
         "y": {
          "_inputArray": {
           "0": 270,
           "1": 255,
           "10": 239,
           "11": 217,
           "12": 213,
           "13": 213,
           "14": 198,
           "15": 150,
           "16": 146,
           "17": 143,
           "18": 143,
           "19": 124,
           "2": 176,
           "20": 158,
           "21": 167,
           "22": 112,
           "23": 106,
           "24": 171,
           "25": 171,
           "26": 171,
           "27": 171,
           "28": 171,
           "29": 219,
           "3": 176,
           "30": 219,
           "31": 221,
           "32": 205,
           "33": 205,
           "34": 205,
           "35": 205,
           "36": 205,
           "37": 159,
           "38": 159,
           "39": 214,
           "4": 216,
           "40": 208,
           "41": 208,
           "42": 208,
           "43": 208,
           "44": 195,
           "45": 235,
           "46": 235,
           "47": 273,
           "48": 273,
           "49": 273,
           "5": 217,
           "50": 273,
           "6": 215,
           "7": 276,
           "8": 200,
           "9": 218,
           "bdata": "DgH/ALAAsADYANkA1wAUAcgA2gDvANkA1QDVAMYAlgCSAI8AjwB8AJ4ApwBwAGoAqwCrAKsAqwCrANsA2wDdAM0AzQDNAM0AzQCfAJ8A1gDQANAA0ADQAMMA6wDrABEBEQERAREB",
           "dtype": "i2",
           "shape": "51"
          },
          "bdata": "DgH/ALAAsADYANkA1wAUAcgA2gDvANkA1QDVAMYAlgCSAI8AjwB8AJ4ApwBwAGoAqwCrAKsAqwCrANsA2wDdAM0AzQDNAM0AzQCfAJ8A1gDQANAA0ADQAMMA6wDrABEBEQERAREB",
          "dtype": "i2"
         }
        },
        {
         "line": {
          "color": "#e34a21",
          "dash": "dash"
         },
         "mode": "lines",
         "name": "Annual Average",
         "type": "scatter",
         "x": [
          "2025-07-21T00:00:00",
          "2025-07-28T00:00:00",
          "2025-08-04T00:00:00",
          "2025-08-11T00:00:00",
          "2025-08-18T00:00:00",
          "2025-08-25T00:00:00",
          "2025-09-01T00:00:00",
          "2025-09-08T00:00:00",
          "2025-09-15T00:00:00",
          "2025-09-22T00:00:00",
          "2025-09-29T00:00:00",
          "2025-10-06T00:00:00",
          "2025-10-13T00:00:00",
          "2025-10-20T00:00:00",
          "2025-10-27T00:00:00",
          "2025-11-03T00:00:00",
          "2025-11-10T00:00:00",
          "2025-11-17T00:00:00",
          "2025-11-24T00:00:00",
          "2025-12-01T00:00:00",
          "2025-12-08T00:00:00",
          "2025-12-15T00:00:00",
          "2025-12-22T00:00:00",
          "2025-12-29T00:00:00",
          "2026-01-05T00:00:00",
          "2026-01-12T00:00:00",
          "2026-01-19T00:00:00",
          "2026-01-26T00:00:00",
          "2026-02-02T00:00:00",
          "2026-02-09T00:00:00",
          "2026-02-16T00:00:00",
          "2026-02-23T00:00:00",
          "2026-03-02T00:00:00",
          "2026-03-09T00:00:00",
          "2026-03-16T00:00:00",
          "2026-03-23T00:00:00",
          "2026-03-30T00:00:00",
          "2026-04-06T00:00:00",
          "2026-04-13T00:00:00",
          "2026-04-20T00:00:00",
          "2026-04-27T00:00:00",
          "2026-05-04T00:00:00",
          "2026-05-11T00:00:00",
          "2026-05-18T00:00:00",
          "2026-05-25T00:00:00",
          "2026-06-01T00:00:00",
          "2026-06-08T00:00:00",
          "2026-06-15T00:00:00",
          "2026-06-22T00:00:00",
          "2026-06-29T00:00:00",
          "2026-07-06T00:00:00"
         ],
         "y": [
          200,
          200,
          200,
          200,
          200,
          200,
          200,
          200,
          200,
          200,
          200,
          200,
          200,
          200,
          200,
          200,
          200,
          200,
          200,
          200,
          200,
          200,
          200,
          200,
          200,
          200,
          200,
          200,
          200,
          200,
          200,
          200,
          200,
          200,
          200,
          200,
          200,
          200,
          200,
          200,
          200,
          200,
          200,
          200,
          200,
          200,
          200,
          200,
          200,
          200,
          200
         ]
        }
       ],
       "layout": {
        "autosize": true,
        "legend": {
         "font": {
          "color": "#00314a"
         },
         "orientation": "h",
         "x": 0.5,
         "xanchor": "center",
         "y": 1.02,
         "yanchor": "bottom"
        },
        "paper_bgcolor": "white",
        "plot_bgcolor": "white",
        "template": {
         "data": {
          "bar": [
           {
            "error_x": {
             "color": "#2a3f5f"
            },
            "error_y": {
             "color": "#2a3f5f"
            },
            "marker": {
             "line": {
              "color": "#E5ECF6",
              "width": 0.5
             },
             "pattern": {
              "fillmode": "overlay",
              "size": 10,
              "solidity": 0.2
             }
            },
            "type": "bar"
           }
          ],
          "barpolar": [
           {
            "marker": {
             "line": {
              "color": "#E5ECF6",
              "width": 0.5
             },
             "pattern": {
              "fillmode": "overlay",
              "size": 10,
              "solidity": 0.2
             }
            },
            "type": "barpolar"
           }
          ],
          "carpet": [
           {
            "aaxis": {
             "endlinecolor": "#2a3f5f",
             "gridcolor": "white",
             "linecolor": "white",
             "minorgridcolor": "white",
             "startlinecolor": "#2a3f5f"
            },
            "baxis": {
             "endlinecolor": "#2a3f5f",
             "gridcolor": "white",
             "linecolor": "white",
             "minorgridcolor": "white",
             "startlinecolor": "#2a3f5f"
            },
            "type": "carpet"
           }
          ],
          "choropleth": [
           {
            "colorbar": {
             "outlinewidth": 0,
             "ticks": ""
            },
            "type": "choropleth"
           }
          ],
          "contour": [
           {
            "colorbar": {
             "outlinewidth": 0,
             "ticks": ""
            },
            "colorscale": [
             [
              0,
              "#0d0887"
             ],
             [
              0.1111111111111111,
              "#46039f"
             ],
             [
              0.2222222222222222,
              "#7201a8"
             ],
             [
              0.3333333333333333,
              "#9c179e"
             ],
             [
              0.4444444444444444,
              "#bd3786"
             ],
             [
              0.5555555555555556,
              "#d8576b"
             ],
             [
              0.6666666666666666,
              "#ed7953"
             ],
             [
              0.7777777777777778,
              "#fb9f3a"
             ],
             [
              0.8888888888888888,
              "#fdca26"
             ],
             [
              1,
              "#f0f921"
             ]
            ],
            "type": "contour"
           }
          ],
          "contourcarpet": [
           {
            "colorbar": {
             "outlinewidth": 0,
             "ticks": ""
            },
            "type": "contourcarpet"
           }
          ],
          "heatmap": [
           {
            "colorbar": {
             "outlinewidth": 0,
             "ticks": ""
            },
            "colorscale": [
             [
              0,
              "#0d0887"
             ],
             [
              0.1111111111111111,
              "#46039f"
             ],
             [
              0.2222222222222222,
              "#7201a8"
             ],
             [
              0.3333333333333333,
              "#9c179e"
             ],
             [
              0.4444444444444444,
              "#bd3786"
             ],
             [
              0.5555555555555556,
              "#d8576b"
             ],
             [
              0.6666666666666666,
              "#ed7953"
             ],
             [
              0.7777777777777778,
              "#fb9f3a"
             ],
             [
              0.8888888888888888,
              "#fdca26"
             ],
             [
              1,
              "#f0f921"
             ]
            ],
            "type": "heatmap"
           }
          ],
          "histogram": [
           {
            "marker": {
             "pattern": {
              "fillmode": "overlay",
              "size": 10,
              "solidity": 0.2
             }
            },
            "type": "histogram"
           }
          ],
          "histogram2d": [
           {
            "colorbar": {
             "outlinewidth": 0,
             "ticks": ""
            },
            "colorscale": [
             [
              0,
              "#0d0887"
             ],
             [
              0.1111111111111111,
              "#46039f"
             ],
             [
              0.2222222222222222,
              "#7201a8"
             ],
             [
              0.3333333333333333,
              "#9c179e"
             ],
             [
              0.4444444444444444,
              "#bd3786"
             ],
             [
              0.5555555555555556,
              "#d8576b"
             ],
             [
              0.6666666666666666,
              "#ed7953"
             ],
             [
              0.7777777777777778,
              "#fb9f3a"
             ],
             [
              0.8888888888888888,
              "#fdca26"
             ],
             [
              1,
              "#f0f921"
             ]
            ],
            "type": "histogram2d"
           }
          ],
          "histogram2dcontour": [
           {
            "colorbar": {
             "outlinewidth": 0,
             "ticks": ""
            },
            "colorscale": [
             [
              0,
              "#0d0887"
             ],
             [
              0.1111111111111111,
              "#46039f"
             ],
             [
              0.2222222222222222,
              "#7201a8"
             ],
             [
              0.3333333333333333,
              "#9c179e"
             ],
             [
              0.4444444444444444,
              "#bd3786"
             ],
             [
              0.5555555555555556,
              "#d8576b"
             ],
             [
              0.6666666666666666,
              "#ed7953"
             ],
             [
              0.7777777777777778,
              "#fb9f3a"
             ],
             [
              0.8888888888888888,
              "#fdca26"
             ],
             [
              1,
              "#f0f921"
             ]
            ],
            "type": "histogram2dcontour"
           }
          ],
          "mesh3d": [
           {
            "colorbar": {
             "outlinewidth": 0,
             "ticks": ""
            },
            "type": "mesh3d"
           }
          ],
          "parcoords": [
           {
            "line": {
             "colorbar": {
              "outlinewidth": 0,
              "ticks": ""
             }
            },
            "type": "parcoords"
           }
          ],
          "pie": [
           {
            "automargin": true,
            "type": "pie"
           }
          ],
          "scatter": [
           {
            "fillpattern": {
             "fillmode": "overlay",
             "size": 10,
             "solidity": 0.2
            },
            "type": "scatter"
           }
          ],
          "scatter3d": [
           {
            "line": {
             "colorbar": {
              "outlinewidth": 0,
              "ticks": ""
             }
            },
            "marker": {
             "colorbar": {
              "outlinewidth": 0,
              "ticks": ""
             }
            },
            "type": "scatter3d"
           }
          ],
          "scattercarpet": [
           {
            "marker": {
             "colorbar": {
              "outlinewidth": 0,
              "ticks": ""
             }
            },
            "type": "scattercarpet"
           }
          ],
          "scattergeo": [
           {
            "marker": {
             "colorbar": {
              "outlinewidth": 0,
              "ticks": ""
             }
            },
            "type": "scattergeo"
           }
          ],
          "scattergl": [
           {
            "marker": {
             "colorbar": {
              "outlinewidth": 0,
              "ticks": ""
             }
            },
            "type": "scattergl"
           }
          ],
          "scattermap": [
           {
            "marker": {
             "colorbar": {
              "outlinewidth": 0,
              "ticks": ""
             }
            },
            "type": "scattermap"
           }
          ],
          "scattermapbox": [
           {
            "marker": {
             "colorbar": {
              "outlinewidth": 0,
              "ticks": ""
             }
            },
            "type": "scattermapbox"
           }
          ],
          "scatterpolar": [
           {
            "marker": {
             "colorbar": {
              "outlinewidth": 0,
              "ticks": ""
             }
            },
            "type": "scatterpolar"
           }
          ],
          "scatterpolargl": [
           {
            "marker": {
             "colorbar": {
              "outlinewidth": 0,
              "ticks": ""
             }
            },
            "type": "scatterpolargl"
           }
          ],
          "scatterternary": [
           {
            "marker": {
             "colorbar": {
              "outlinewidth": 0,
              "ticks": ""
             }
            },
            "type": "scatterternary"
           }
          ],
          "surface": [
           {
            "colorbar": {
             "outlinewidth": 0,
             "ticks": ""
            },
            "colorscale": [
             [
              0,
              "#0d0887"
             ],
             [
              0.1111111111111111,
              "#46039f"
             ],
             [
              0.2222222222222222,
              "#7201a8"
             ],
             [
              0.3333333333333333,
              "#9c179e"
             ],
             [
              0.4444444444444444,
              "#bd3786"
             ],
             [
              0.5555555555555556,
              "#d8576b"
             ],
             [
              0.6666666666666666,
              "#ed7953"
             ],
             [
              0.7777777777777778,
              "#fb9f3a"
             ],
             [
              0.8888888888888888,
              "#fdca26"
             ],
             [
              1,
              "#f0f921"
             ]
            ],
            "type": "surface"
           }
          ],
          "table": [
           {
            "cells": {
             "fill": {
              "color": "#EBF0F8"
             },
             "line": {
              "color": "white"
             }
            },
            "header": {
             "fill": {
              "color": "#C8D4E3"
             },
             "line": {
              "color": "white"
             }
            },
            "type": "table"
           }
          ]
         },
         "layout": {
          "annotationdefaults": {
           "arrowcolor": "#2a3f5f",
           "arrowhead": 0,
           "arrowwidth": 1
          },
          "autotypenumbers": "strict",
          "coloraxis": {
           "colorbar": {
            "outlinewidth": 0,
            "ticks": ""
           }
          },
          "colorscale": {
           "diverging": [
            [
             0,
             "#8e0152"
            ],
            [
             0.1,
             "#c51b7d"
            ],
            [
             0.2,
             "#de77ae"
            ],
            [
             0.3,
             "#f1b6da"
            ],
            [
             0.4,
             "#fde0ef"
            ],
            [
             0.5,
             "#f7f7f7"
            ],
            [
             0.6,
             "#e6f5d0"
            ],
            [
             0.7,
             "#b8e186"
            ],
            [
             0.8,
             "#7fbc41"
            ],
            [
             0.9,
             "#4d9221"
            ],
            [
             1,
             "#276419"
            ]
           ],
           "sequential": [
            [
             0,
             "#0d0887"
            ],
            [
             0.1111111111111111,
             "#46039f"
            ],
            [
             0.2222222222222222,
             "#7201a8"
            ],
            [
             0.3333333333333333,
             "#9c179e"
            ],
            [
             0.4444444444444444,
             "#bd3786"
            ],
            [
             0.5555555555555556,
             "#d8576b"
            ],
            [
             0.6666666666666666,
             "#ed7953"
            ],
            [
             0.7777777777777778,
             "#fb9f3a"
            ],
            [
             0.8888888888888888,
             "#fdca26"
            ],
            [
             1,
             "#f0f921"
            ]
           ],
           "sequentialminus": [
            [
             0,
             "#0d0887"
            ],
            [
             0.1111111111111111,
             "#46039f"
            ],
            [
             0.2222222222222222,
             "#7201a8"
            ],
            [
             0.3333333333333333,
             "#9c179e"
            ],
            [
             0.4444444444444444,
             "#bd3786"
            ],
            [
             0.5555555555555556,
             "#d8576b"
            ],
            [
             0.6666666666666666,
             "#ed7953"
            ],
            [
             0.7777777777777778,
             "#fb9f3a"
            ],
            [
             0.8888888888888888,
             "#fdca26"
            ],
            [
             1,
             "#f0f921"
            ]
           ]
          },
          "colorway": [
           "#636efa",
           "#EF553B",
           "#00cc96",
           "#ab63fa",
           "#FFA15A",
           "#19d3f3",
           "#FF6692",
           "#B6E880",
           "#FF97FF",
           "#FECB52"
          ],
          "font": {
           "color": "#2a3f5f"
          },
          "geo": {
           "bgcolor": "white",
           "lakecolor": "white",
           "landcolor": "#E5ECF6",
           "showlakes": true,
           "showland": true,
           "subunitcolor": "white"
          },
          "hoverlabel": {
           "align": "left"
          },
          "hovermode": "closest",
          "mapbox": {
           "style": "light"
          },
          "paper_bgcolor": "white",
          "plot_bgcolor": "#E5ECF6",
          "polar": {
           "angularaxis": {
            "gridcolor": "white",
            "linecolor": "white",
            "ticks": ""
           },
           "bgcolor": "#E5ECF6",
           "radialaxis": {
            "gridcolor": "white",
            "linecolor": "white",
            "ticks": ""
           }
          },
          "scene": {
           "xaxis": {
            "backgroundcolor": "#E5ECF6",
            "gridcolor": "white",
            "gridwidth": 2,
            "linecolor": "white",
            "showbackground": true,
            "ticks": "",
            "zerolinecolor": "white"
           },
           "yaxis": {
            "backgroundcolor": "#E5ECF6",
            "gridcolor": "white",
            "gridwidth": 2,
            "linecolor": "white",
            "showbackground": true,
            "ticks": "",
            "zerolinecolor": "white"
           },
           "zaxis": {
            "backgroundcolor": "#E5ECF6",
            "gridcolor": "white",
            "gridwidth": 2,
            "linecolor": "white",
            "showbackground": true,
            "ticks": "",
            "zerolinecolor": "white"
           }
          },
          "shapedefaults": {
           "line": {
            "color": "#2a3f5f"
           }
          },
          "ternary": {
           "aaxis": {
            "gridcolor": "white",
            "linecolor": "white",
            "ticks": ""
           },
           "baxis": {
            "gridcolor": "white",
            "linecolor": "white",
            "ticks": ""
           },
           "bgcolor": "#E5ECF6",
           "caxis": {
            "gridcolor": "white",
            "linecolor": "white",
            "ticks": ""
           }
          },
          "title": {
           "x": 0.05
          },
          "xaxis": {
           "automargin": true,
           "gridcolor": "white",
           "linecolor": "white",
           "ticks": "",
           "title": {
            "standoff": 15
           },
           "zerolinecolor": "white",
           "zerolinewidth": 2
          },
          "yaxis": {
           "automargin": true,
           "gridcolor": "white",
           "linecolor": "white",
           "ticks": "",
           "title": {
            "standoff": 15
           },
           "zerolinecolor": "white",
           "zerolinewidth": 2
          }
         }
        },
        "title": {
         "font": {
          "color": "#00314a"
         },
         "text": "Average Premier Inn Prices 2025/2026",
         "x": 0.5,
         "xanchor": "center"
        },
        "xaxis": {
         "autorange": true,
         "gridcolor": "#eff2f2",
         "linecolor": "#eff2f2",
         "range": [
          "2025-06-29 19:46:14.0648",
          "2026-07-27 04:13:45.9352"
         ],
         "showgrid": true,
         "tickfont": {
          "color": "#00314a"
         },
         "title": {
          "font": {
           "color": "#00314a"
          },
          "text": "Check-in"
         },
         "type": "date"
        },
        "yaxis": {
         "autorange": true,
         "gridcolor": "#eff2f2",
         "linecolor": "#eff2f2",
         "range": [
          91.97087378640776,
          290.02912621359224
         ],
         "showgrid": true,
         "tickfont": {
          "color": "#00314a"
         },
         "title": {
          "font": {
           "color": "#00314a"
          },
          "text": "Price (£)"
         },
         "type": "linear"
        }
       }
      },
      "image/png": "[encoded data removed]"
     },
     "metadata": {},
     "output_type": "display_data"
    }
   ],
   "source": [
    "import pandas as pd\n",
    "import plotly.graph_objects as go\n",
    "\n",
    "df = pd.read_csv(\"rickmansworth premier inn prices.csv\")\n",
    "\n",
    "df[\"Price\"] = pd.to_numeric(df[\"Price\"], errors=\"coerce\")\n",
    "df = df.dropna(subset=[\"Price\"])\n",
    "df[\"Check-in\"] = pd.to_datetime(df[\"Check-in\"])\n",
    "df = df.sort_values(\"Check-in\")\n",
    "\n",
    "fig = go.Figure()\n",
    "\n",
    "fig.add_trace(go.Scatter(\n",
    "    x=df[\"Check-in\"],\n",
    "    y=df[\"Price\"],\n",
    "    mode=\"lines+markers\",\n",
    "    name=\"Price\",\n",
    "    line=dict(color=\"#00314a\", shape=\"spline\"),\n",
    "    marker=dict(color=\"#00314a\")\n",
    "))\n",
    "\n",
    "fig.add_trace(go.Scatter(\n",
    "    x=df[\"Check-in\"],\n",
    "    y=[df[\"Price\"].mean().round(0)] * len(df),\n",
    "    mode=\"lines\",\n",
    "    name=\"Annual Average\",\n",
    "    line=dict(color=\"#e34a21\", dash=\"dash\")\n",
    "))\n",
    "\n",
    "fig.update_layout(\n",
    "    title=dict(\n",
    "        text=\"Average Premier Inn Prices 2025/2026\",\n",
    "        font=dict(color=\"#00314a\"),\n",
    "        x=0.5,\n",
    "        xanchor=\"center\"\n",
    "    ),\n",
    "    xaxis=dict(\n",
    "        title=dict(text=\"Check-in\", font=dict(color=\"#00314a\")),\n",
    "        showgrid=True,\n",
    "        gridcolor=\"#eff2f2\",\n",
    "        linecolor=\"#eff2f2\",\n",
    "        tickfont=dict(color=\"#00314a\")\n",
    "    ),\n",
    "    yaxis=dict(\n",
    "        title=dict(text=\"Price (£)\", font=dict(color=\"#00314a\")),\n",
    "        showgrid=True,\n",
    "        gridcolor=\"#eff2f2\",\n",
    "        linecolor=\"#eff2f2\",\n",
    "        tickfont=dict(color=\"#00314a\")\n",
    "    ),\n",
    "    legend=dict(\n",
    "        orientation=\"h\",\n",
    "        yanchor=\"bottom\",\n",
    "        y=1.02,\n",
    "        xanchor=\"center\",\n",
    "        x=0.5,\n",
    "        font=dict(color=\"#00314a\")\n",
    "    ),\n",
    "    plot_bgcolor=\"white\",\n",
    "    paper_bgcolor=\"white\"\n",
    ")\n",
    "\n",
    "\n",
    "fig.write_html(\"PREMIER INN PRICES.html\")\n",
    "fig.show()"
   ]
  },
  {
   "cell_type": "code",
   "execution_count": 34,
   "id": "0b533951-697e-4d13-ad1c-b385b49003ec",
   "metadata": {},
   "outputs": [
    {
     "data": {
      "application/vnd.plotly.v1+json": {
       "config": {
        "plotlyServerURL": "https://plot.ly"
       },
       "data": [
        {
         "line": {
          "color": "#eff2f2",
          "shape": "spline"
         },
         "mode": "lines",
         "name": "Price",
         "type": "scatter",
         "x": [
          "2025-07-21T00:00:00",
          "2025-07-28T00:00:00",
          "2025-08-04T00:00:00",
          "2025-08-11T00:00:00",
          "2025-08-18T00:00:00",
          "2025-08-25T00:00:00",
          "2025-09-01T00:00:00",
          "2025-09-08T00:00:00",
          "2025-09-15T00:00:00",
          "2025-09-22T00:00:00",
          "2025-09-29T00:00:00",
          "2025-10-06T00:00:00",
          "2025-10-13T00:00:00",
          "2025-10-20T00:00:00",
          "2025-10-27T00:00:00",
          "2025-11-03T00:00:00",
          "2025-11-10T00:00:00",
          "2025-11-17T00:00:00",
          "2025-11-24T00:00:00",
          "2025-12-01T00:00:00",
          "2025-12-08T00:00:00",
          "2025-12-15T00:00:00",
          "2025-12-22T00:00:00",
          "2025-12-29T00:00:00",
          "2026-01-05T00:00:00",
          "2026-01-12T00:00:00",
          "2026-01-19T00:00:00",
          "2026-01-26T00:00:00",
          "2026-02-02T00:00:00",
          "2026-02-09T00:00:00",
          "2026-02-16T00:00:00",
          "2026-02-23T00:00:00",
          "2026-03-02T00:00:00",
          "2026-03-09T00:00:00",
          "2026-03-16T00:00:00",
          "2026-03-23T00:00:00",
          "2026-03-30T00:00:00",
          "2026-04-06T00:00:00",
          "2026-04-13T00:00:00",
          "2026-04-20T00:00:00",
          "2026-04-27T00:00:00",
          "2026-05-04T00:00:00",
          "2026-05-11T00:00:00",
          "2026-05-18T00:00:00",
          "2026-05-25T00:00:00",
          "2026-06-01T00:00:00",
          "2026-06-08T00:00:00",
          "2026-06-15T00:00:00",
          "2026-06-22T00:00:00",
          "2026-06-29T00:00:00",
          "2026-07-06T00:00:00"
         ],
         "y": {
          "_inputArray": {
           "0": 270,
           "1": 255,
           "10": 239,
           "11": 217,
           "12": 213,
           "13": 213,
           "14": 198,
           "15": 150,
           "16": 146,
           "17": 143,
           "18": 143,
           "19": 124,
           "2": 176,
           "20": 158,
           "21": 167,
           "22": 112,
           "23": 106,
           "24": 171,
           "25": 171,
           "26": 171,
           "27": 171,
           "28": 171,
           "29": 219,
           "3": 176,
           "30": 219,
           "31": 221,
           "32": 205,
           "33": 205,
           "34": 205,
           "35": 205,
           "36": 205,
           "37": 159,
           "38": 159,
           "39": 214,
           "4": 216,
           "40": 208,
           "41": 208,
           "42": 208,
           "43": 208,
           "44": 195,
           "45": 235,
           "46": 235,
           "47": 273,
           "48": 273,
           "49": 273,
           "5": 217,
           "50": 273,
           "6": 215,
           "7": 276,
           "8": 200,
           "9": 218,
           "bdata": "DgH/ALAAsADYANkA1wAUAcgA2gDvANkA1QDVAMYAlgCSAI8AjwB8AJ4ApwBwAGoAqwCrAKsAqwCrANsA2wDdAM0AzQDNAM0AzQCfAJ8A1gDQANAA0ADQAMMA6wDrABEBEQERAREB",
           "dtype": "i2",
           "shape": "51"
          },
          "bdata": "DgH/ALAAsADYANkA1wAUAcgA2gDvANkA1QDVAMYAlgCSAI8AjwB8AJ4ApwBwAGoAqwCrAKsAqwCrANsA2wDdAM0AzQDNAM0AzQCfAJ8A1gDQANAA0ADQAMMA6wDrABEBEQERAREB",
          "dtype": "i2"
         }
        },
        {
         "line": {
          "color": "#e34a21",
          "dash": "dash"
         },
         "mode": "lines",
         "name": "Average",
         "type": "scatter",
         "x": [
          "2025-07-21T00:00:00",
          "2025-07-28T00:00:00",
          "2025-08-04T00:00:00",
          "2025-08-11T00:00:00",
          "2025-08-18T00:00:00",
          "2025-08-25T00:00:00",
          "2025-09-01T00:00:00",
          "2025-09-08T00:00:00",
          "2025-09-15T00:00:00",
          "2025-09-22T00:00:00",
          "2025-09-29T00:00:00",
          "2025-10-06T00:00:00",
          "2025-10-13T00:00:00",
          "2025-10-20T00:00:00",
          "2025-10-27T00:00:00",
          "2025-11-03T00:00:00",
          "2025-11-10T00:00:00",
          "2025-11-17T00:00:00",
          "2025-11-24T00:00:00",
          "2025-12-01T00:00:00",
          "2025-12-08T00:00:00",
          "2025-12-15T00:00:00",
          "2025-12-22T00:00:00",
          "2025-12-29T00:00:00",
          "2026-01-05T00:00:00",
          "2026-01-12T00:00:00",
          "2026-01-19T00:00:00",
          "2026-01-26T00:00:00",
          "2026-02-02T00:00:00",
          "2026-02-09T00:00:00",
          "2026-02-16T00:00:00",
          "2026-02-23T00:00:00",
          "2026-03-02T00:00:00",
          "2026-03-09T00:00:00",
          "2026-03-16T00:00:00",
          "2026-03-23T00:00:00",
          "2026-03-30T00:00:00",
          "2026-04-06T00:00:00",
          "2026-04-13T00:00:00",
          "2026-04-20T00:00:00",
          "2026-04-27T00:00:00",
          "2026-05-04T00:00:00",
          "2026-05-11T00:00:00",
          "2026-05-18T00:00:00",
          "2026-05-25T00:00:00",
          "2026-06-01T00:00:00",
          "2026-06-08T00:00:00",
          "2026-06-15T00:00:00",
          "2026-06-22T00:00:00",
          "2026-06-29T00:00:00",
          "2026-07-06T00:00:00"
         ],
         "y": [
          200,
          200,
          200,
          200,
          200,
          200,
          200,
          200,
          200,
          200,
          200,
          200,
          200,
          200,
          200,
          200,
          200,
          200,
          200,
          200,
          200,
          200,
          200,
          200,
          200,
          200,
          200,
          200,
          200,
          200,
          200,
          200,
          200,
          200,
          200,
          200,
          200,
          200,
          200,
          200,
          200,
          200,
          200,
          200,
          200,
          200,
          200,
          200,
          200,
          200,
          200
         ]
        }
       ],
       "layout": {
        "autosize": true,
        "legend": {
         "font": {
          "color": "#eff2f2"
         },
         "orientation": "h",
         "x": 0.5,
         "xanchor": "center",
         "y": 1.02,
         "yanchor": "bottom"
        },
        "paper_bgcolor": "#00314a",
        "plot_bgcolor": "rgba(255,255,255,0.1)",
        "template": {
         "data": {
          "bar": [
           {
            "error_x": {
             "color": "#2a3f5f"
            },
            "error_y": {
             "color": "#2a3f5f"
            },
            "marker": {
             "line": {
              "color": "#E5ECF6",
              "width": 0.5
             },
             "pattern": {
              "fillmode": "overlay",
              "size": 10,
              "solidity": 0.2
             }
            },
            "type": "bar"
           }
          ],
          "barpolar": [
           {
            "marker": {
             "line": {
              "color": "#E5ECF6",
              "width": 0.5
             },
             "pattern": {
              "fillmode": "overlay",
              "size": 10,
              "solidity": 0.2
             }
            },
            "type": "barpolar"
           }
          ],
          "carpet": [
           {
            "aaxis": {
             "endlinecolor": "#2a3f5f",
             "gridcolor": "white",
             "linecolor": "white",
             "minorgridcolor": "white",
             "startlinecolor": "#2a3f5f"
            },
            "baxis": {
             "endlinecolor": "#2a3f5f",
             "gridcolor": "white",
             "linecolor": "white",
             "minorgridcolor": "white",
             "startlinecolor": "#2a3f5f"
            },
            "type": "carpet"
           }
          ],
          "choropleth": [
           {
            "colorbar": {
             "outlinewidth": 0,
             "ticks": ""
            },
            "type": "choropleth"
           }
          ],
          "contour": [
           {
            "colorbar": {
             "outlinewidth": 0,
             "ticks": ""
            },
            "colorscale": [
             [
              0,
              "#0d0887"
             ],
             [
              0.1111111111111111,
              "#46039f"
             ],
             [
              0.2222222222222222,
              "#7201a8"
             ],
             [
              0.3333333333333333,
              "#9c179e"
             ],
             [
              0.4444444444444444,
              "#bd3786"
             ],
             [
              0.5555555555555556,
              "#d8576b"
             ],
             [
              0.6666666666666666,
              "#ed7953"
             ],
             [
              0.7777777777777778,
              "#fb9f3a"
             ],
             [
              0.8888888888888888,
              "#fdca26"
             ],
             [
              1,
              "#f0f921"
             ]
            ],
            "type": "contour"
           }
          ],
          "contourcarpet": [
           {
            "colorbar": {
             "outlinewidth": 0,
             "ticks": ""
            },
            "type": "contourcarpet"
           }
          ],
          "heatmap": [
           {
            "colorbar": {
             "outlinewidth": 0,
             "ticks": ""
            },
            "colorscale": [
             [
              0,
              "#0d0887"
             ],
             [
              0.1111111111111111,
              "#46039f"
             ],
             [
              0.2222222222222222,
              "#7201a8"
             ],
             [
              0.3333333333333333,
              "#9c179e"
             ],
             [
              0.4444444444444444,
              "#bd3786"
             ],
             [
              0.5555555555555556,
              "#d8576b"
             ],
             [
              0.6666666666666666,
              "#ed7953"
             ],
             [
              0.7777777777777778,
              "#fb9f3a"
             ],
             [
              0.8888888888888888,
              "#fdca26"
             ],
             [
              1,
              "#f0f921"
             ]
            ],
            "type": "heatmap"
           }
          ],
          "histogram": [
           {
            "marker": {
             "pattern": {
              "fillmode": "overlay",
              "size": 10,
              "solidity": 0.2
             }
            },
            "type": "histogram"
           }
          ],
          "histogram2d": [
           {
            "colorbar": {
             "outlinewidth": 0,
             "ticks": ""
            },
            "colorscale": [
             [
              0,
              "#0d0887"
             ],
             [
              0.1111111111111111,
              "#46039f"
             ],
             [
              0.2222222222222222,
              "#7201a8"
             ],
             [
              0.3333333333333333,
              "#9c179e"
             ],
             [
              0.4444444444444444,
              "#bd3786"
             ],
             [
              0.5555555555555556,
              "#d8576b"
             ],
             [
              0.6666666666666666,
              "#ed7953"
             ],
             [
              0.7777777777777778,
              "#fb9f3a"
             ],
             [
              0.8888888888888888,
              "#fdca26"
             ],
             [
              1,
              "#f0f921"
             ]
            ],
            "type": "histogram2d"
           }
          ],
          "histogram2dcontour": [
           {
            "colorbar": {
             "outlinewidth": 0,
             "ticks": ""
            },
            "colorscale": [
             [
              0,
              "#0d0887"
             ],
             [
              0.1111111111111111,
              "#46039f"
             ],
             [
              0.2222222222222222,
              "#7201a8"
             ],
             [
              0.3333333333333333,
              "#9c179e"
             ],
             [
              0.4444444444444444,
              "#bd3786"
             ],
             [
              0.5555555555555556,
              "#d8576b"
             ],
             [
              0.6666666666666666,
              "#ed7953"
             ],
             [
              0.7777777777777778,
              "#fb9f3a"
             ],
             [
              0.8888888888888888,
              "#fdca26"
             ],
             [
              1,
              "#f0f921"
             ]
            ],
            "type": "histogram2dcontour"
           }
          ],
          "mesh3d": [
           {
            "colorbar": {
             "outlinewidth": 0,
             "ticks": ""
            },
            "type": "mesh3d"
           }
          ],
          "parcoords": [
           {
            "line": {
             "colorbar": {
              "outlinewidth": 0,
              "ticks": ""
             }
            },
            "type": "parcoords"
           }
          ],
          "pie": [
           {
            "automargin": true,
            "type": "pie"
           }
          ],
          "scatter": [
           {
            "fillpattern": {
             "fillmode": "overlay",
             "size": 10,
             "solidity": 0.2
            },
            "type": "scatter"
           }
          ],
          "scatter3d": [
           {
            "line": {
             "colorbar": {
              "outlinewidth": 0,
              "ticks": ""
             }
            },
            "marker": {
             "colorbar": {
              "outlinewidth": 0,
              "ticks": ""
             }
            },
            "type": "scatter3d"
           }
          ],
          "scattercarpet": [
           {
            "marker": {
             "colorbar": {
              "outlinewidth": 0,
              "ticks": ""
             }
            },
            "type": "scattercarpet"
           }
          ],
          "scattergeo": [
           {
            "marker": {
             "colorbar": {
              "outlinewidth": 0,
              "ticks": ""
             }
            },
            "type": "scattergeo"
           }
          ],
          "scattergl": [
           {
            "marker": {
             "colorbar": {
              "outlinewidth": 0,
              "ticks": ""
             }
            },
            "type": "scattergl"
           }
          ],
          "scattermap": [
           {
            "marker": {
             "colorbar": {
              "outlinewidth": 0,
              "ticks": ""
             }
            },
            "type": "scattermap"
           }
          ],
          "scattermapbox": [
           {
            "marker": {
             "colorbar": {
              "outlinewidth": 0,
              "ticks": ""
             }
            },
            "type": "scattermapbox"
           }
          ],
          "scatterpolar": [
           {
            "marker": {
             "colorbar": {
              "outlinewidth": 0,
              "ticks": ""
             }
            },
            "type": "scatterpolar"
           }
          ],
          "scatterpolargl": [
           {
            "marker": {
             "colorbar": {
              "outlinewidth": 0,
              "ticks": ""
             }
            },
            "type": "scatterpolargl"
           }
          ],
          "scatterternary": [
           {
            "marker": {
             "colorbar": {
              "outlinewidth": 0,
              "ticks": ""
             }
            },
            "type": "scatterternary"
           }
          ],
          "surface": [
           {
            "colorbar": {
             "outlinewidth": 0,
             "ticks": ""
            },
            "colorscale": [
             [
              0,
              "#0d0887"
             ],
             [
              0.1111111111111111,
              "#46039f"
             ],
             [
              0.2222222222222222,
              "#7201a8"
             ],
             [
              0.3333333333333333,
              "#9c179e"
             ],
             [
              0.4444444444444444,
              "#bd3786"
             ],
             [
              0.5555555555555556,
              "#d8576b"
             ],
             [
              0.6666666666666666,
              "#ed7953"
             ],
             [
              0.7777777777777778,
              "#fb9f3a"
             ],
             [
              0.8888888888888888,
              "#fdca26"
             ],
             [
              1,
              "#f0f921"
             ]
            ],
            "type": "surface"
           }
          ],
          "table": [
           {
            "cells": {
             "fill": {
              "color": "#EBF0F8"
             },
             "line": {
              "color": "white"
             }
            },
            "header": {
             "fill": {
              "color": "#C8D4E3"
             },
             "line": {
              "color": "white"
             }
            },
            "type": "table"
           }
          ]
         },
         "layout": {
          "annotationdefaults": {
           "arrowcolor": "#2a3f5f",
           "arrowhead": 0,
           "arrowwidth": 1
          },
          "autotypenumbers": "strict",
          "coloraxis": {
           "colorbar": {
            "outlinewidth": 0,
            "ticks": ""
           }
          },
          "colorscale": {
           "diverging": [
            [
             0,
             "#8e0152"
            ],
            [
             0.1,
             "#c51b7d"
            ],
            [
             0.2,
             "#de77ae"
            ],
            [
             0.3,
             "#f1b6da"
            ],
            [
             0.4,
             "#fde0ef"
            ],
            [
             0.5,
             "#f7f7f7"
            ],
            [
             0.6,
             "#e6f5d0"
            ],
            [
             0.7,
             "#b8e186"
            ],
            [
             0.8,
             "#7fbc41"
            ],
            [
             0.9,
             "#4d9221"
            ],
            [
             1,
             "#276419"
            ]
           ],
           "sequential": [
            [
             0,
             "#0d0887"
            ],
            [
             0.1111111111111111,
             "#46039f"
            ],
            [
             0.2222222222222222,
             "#7201a8"
            ],
            [
             0.3333333333333333,
             "#9c179e"
            ],
            [
             0.4444444444444444,
             "#bd3786"
            ],
            [
             0.5555555555555556,
             "#d8576b"
            ],
            [
             0.6666666666666666,
             "#ed7953"
            ],
            [
             0.7777777777777778,
             "#fb9f3a"
            ],
            [
             0.8888888888888888,
             "#fdca26"
            ],
            [
             1,
             "#f0f921"
            ]
           ],
           "sequentialminus": [
            [
             0,
             "#0d0887"
            ],
            [
             0.1111111111111111,
             "#46039f"
            ],
            [
             0.2222222222222222,
             "#7201a8"
            ],
            [
             0.3333333333333333,
             "#9c179e"
            ],
            [
             0.4444444444444444,
             "#bd3786"
            ],
            [
             0.5555555555555556,
             "#d8576b"
            ],
            [
             0.6666666666666666,
             "#ed7953"
            ],
            [
             0.7777777777777778,
             "#fb9f3a"
            ],
            [
             0.8888888888888888,
             "#fdca26"
            ],
            [
             1,
             "#f0f921"
            ]
           ]
          },
          "colorway": [
           "#636efa",
           "#EF553B",
           "#00cc96",
           "#ab63fa",
           "#FFA15A",
           "#19d3f3",
           "#FF6692",
           "#B6E880",
           "#FF97FF",
           "#FECB52"
          ],
          "font": {
           "color": "#2a3f5f"
          },
          "geo": {
           "bgcolor": "white",
           "lakecolor": "white",
           "landcolor": "#E5ECF6",
           "showlakes": true,
           "showland": true,
           "subunitcolor": "white"
          },
          "hoverlabel": {
           "align": "left"
          },
          "hovermode": "closest",
          "mapbox": {
           "style": "light"
          },
          "paper_bgcolor": "white",
          "plot_bgcolor": "#E5ECF6",
          "polar": {
           "angularaxis": {
            "gridcolor": "white",
            "linecolor": "white",
            "ticks": ""
           },
           "bgcolor": "#E5ECF6",
           "radialaxis": {
            "gridcolor": "white",
            "linecolor": "white",
            "ticks": ""
           }
          },
          "scene": {
           "xaxis": {
            "backgroundcolor": "#E5ECF6",
            "gridcolor": "white",
            "gridwidth": 2,
            "linecolor": "white",
            "showbackground": true,
            "ticks": "",
            "zerolinecolor": "white"
           },
           "yaxis": {
            "backgroundcolor": "#E5ECF6",
            "gridcolor": "white",
            "gridwidth": 2,
            "linecolor": "white",
            "showbackground": true,
            "ticks": "",
            "zerolinecolor": "white"
           },
           "zaxis": {
            "backgroundcolor": "#E5ECF6",
            "gridcolor": "white",
            "gridwidth": 2,
            "linecolor": "white",
            "showbackground": true,
            "ticks": "",
            "zerolinecolor": "white"
           }
          },
          "shapedefaults": {
           "line": {
            "color": "#2a3f5f"
           }
          },
          "ternary": {
           "aaxis": {
            "gridcolor": "white",
            "linecolor": "white",
            "ticks": ""
           },
           "baxis": {
            "gridcolor": "white",
            "linecolor": "white",
            "ticks": ""
           },
           "bgcolor": "#E5ECF6",
           "caxis": {
            "gridcolor": "white",
            "linecolor": "white",
            "ticks": ""
           }
          },
          "title": {
           "x": 0.05
          },
          "xaxis": {
           "automargin": true,
           "gridcolor": "white",
           "linecolor": "white",
           "ticks": "",
           "title": {
            "standoff": 15
           },
           "zerolinecolor": "white",
           "zerolinewidth": 2
          },
          "yaxis": {
           "automargin": true,
           "gridcolor": "white",
           "linecolor": "white",
           "ticks": "",
           "title": {
            "standoff": 15
           },
           "zerolinecolor": "white",
           "zerolinewidth": 2
          }
         }
        },
        "title": {
         "font": {
          "color": "#eff2f2"
         },
         "text": "Average Premier Inn Prices 2025/2026",
         "x": 0.5,
         "xanchor": "center"
        },
        "xaxis": {
         "autorange": true,
         "gridcolor": "#eff2f2",
         "linecolor": "#eff2f2",
         "range": [
          "2025-07-21",
          "2026-07-06"
         ],
         "showgrid": true,
         "tickfont": {
          "color": "#eff2f2"
         },
         "title": {
          "font": {
           "color": "#eff2f2"
          },
          "text": "Check-in"
         },
         "type": "date"
        },
        "yaxis": {
         "autorange": true,
         "gridcolor": "#eff2f2",
         "linecolor": "#eff2f2",
         "range": [
          96.55555555555556,
          285.44444444444446
         ],
         "showgrid": true,
         "tickfont": {
          "color": "#eff2f2"
         },
         "title": {
          "font": {
           "color": "#eff2f2"
          },
          "text": "Price (£)"
         },
         "type": "linear"
        }
       }
      },
      "image/png": "[encoded data removed]"
     },
     "metadata": {},
     "output_type": "display_data"
    }
   ],
   "source": [
    "import pandas as pd\n",
    "import plotly.graph_objects as go\n",
    "\n",
    "df = pd.read_csv(\"rickmansworth premier inn prices.csv\")\n",
    "df[\"Check-in\"] = pd.to_datetime(df[\"Check-in\"], dayfirst=True)\n",
    "df[\"Price\"] = pd.to_numeric(df[\"Price\"], errors=\"coerce\")\n",
    "\n",
    "average_price = df[\"Price\"].mean().round(0)\n",
    "\n",
    "fig = go.Figure()\n",
    "\n",
    "fig.add_trace(go.Scatter(\n",
    "    x=df[\"Check-in\"],\n",
    "    y=df[\"Price\"],\n",
    "    mode=\"lines\",\n",
    "    name=\"Price\",\n",
    "    line=dict(color=\"#eff2f2\", shape=\"spline\")\n",
    "))\n",
    "\n",
    "fig.add_trace(go.Scatter(\n",
    "    x=df[\"Check-in\"],\n",
    "    y=[average_price] * len(df),\n",
    "    mode=\"lines\",\n",
    "    name=\"Average\",\n",
    "    line=dict(color=\"#e34a21\", dash=\"dash\")\n",
    "))\n",
    "\n",
    "fig.update_layout(\n",
    "    title=dict(\n",
    "        text=\"Average Premier Inn Prices 2025/2026\",\n",
    "        font=dict(color=\"#eff2f2\"),\n",
    "        x=0.5,\n",
    "        xanchor=\"center\"\n",
    "    ),\n",
    "    xaxis=dict(\n",
    "        title=dict(text=\"Check-in\", font=dict(color=\"#eff2f2\")),\n",
    "        showgrid=True,\n",
    "        gridcolor=\"#eff2f2\",\n",
    "        linecolor=\"#eff2f2\",\n",
    "        tickfont=dict(color=\"#eff2f2\")\n",
    "    ),\n",
    "    yaxis=dict(\n",
    "        title=dict(text=\"Price (£)\", font=dict(color=\"#eff2f2\")),\n",
    "        showgrid=True,\n",
    "        gridcolor=\"#eff2f2\",\n",
    "        linecolor=\"#eff2f2\",\n",
    "        tickfont=dict(color=\"#eff2f2\")\n",
    "    ),\n",
    "    legend=dict(\n",
    "        orientation=\"h\",\n",
    "        yanchor=\"bottom\",\n",
    "        y=1.02,\n",
    "        xanchor=\"center\",\n",
    "        x=0.5,\n",
    "        font=dict(color=\"#eff2f2\")\n",
    "    ),\n",
    "    plot_bgcolor=\"rgba(255,255,255,0.1)\",  # white with 10% opacity\n",
    "    paper_bgcolor=\"#00314a\"\n",
    ")\n",
    "\n",
    "fig.write_html(\"PREMIER INN PRICES DARK.html\")\n",
    "fig.show()"
   ]
  },
  {
   "cell_type": "code",
   "execution_count": null,
   "id": "38f9a739-2bcf-4ead-9338-fa537f2c2040",
   "metadata": {},
   "outputs": [],
   "source": []
  }
 ],
 "metadata": {
  "kernelspec": {
   "display_name": "Python 3 (ipykernel)",
   "language": "python",
   "name": "python3"
  },
  "language_info": {
   "codemirror_mode": {
    "name": "ipython",
    "version": 3
   },
   "file_extension": ".py",
   "mimetype": "text/x-python",
   "name": "python",
   "nbconvert_exporter": "python",
   "pygments_lexer": "ipython3",
   "version": "3.12.7"
  }
 },
 "nbformat": 4,
 "nbformat_minor": 5
}
